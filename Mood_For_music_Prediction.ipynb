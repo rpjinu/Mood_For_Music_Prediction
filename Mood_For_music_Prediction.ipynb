{
  "nbformat": 4,
  "nbformat_minor": 0,
  "metadata": {
    "colab": {
      "provenance": [],
      "gpuType": "T4"
    },
    "kernelspec": {
      "name": "python3",
      "display_name": "Python 3"
    },
    "language_info": {
      "name": "python"
    },
    "accelerator": "GPU"
  },
  "cells": [
    {
      "cell_type": "markdown",
      "source": [
        "#***MoodforMusic***\n",
        "(An Intelligent Mood Detection and Music Recommendation\n",
        "Application)"
      ],
      "metadata": {
        "id": "w0bZ8lV6yNwD"
      }
    },
    {
      "cell_type": "code",
      "execution_count": 1,
      "metadata": {
        "id": "crYeK1lFLVUE"
      },
      "outputs": [],
      "source": [
        "#import all necessary modules related to project\n",
        "import pandas as pd\n",
        "import numpy as np\n",
        "import matplotlib.pyplot as plt\n",
        "import seaborn as sns\n",
        "import kagglehub\n",
        "import zipfile\n",
        "import tensorflow as tf\n",
        "from tensorflow.keras.preprocessing.image import ImageDataGenerator\n",
        "from tensorflow.keras.models import Sequential\n",
        "from tensorflow.keras.layers import Conv2D, MaxPooling2D, Flatten, Dense,Dropout\n",
        "from tensorflow.keras.optimizers import Adam\n",
        "from sklearn.metrics import classification_report\n",
        "from tensorflow.keras.models import load_model\n",
        "from tensorflow.keras.preprocessing import image\n",
        "#warnings\n",
        "import warnings\n",
        "warnings.filterwarnings('ignore')"
      ]
    },
    {
      "cell_type": "markdown",
      "source": [
        "#***Load the Dataset From Kaggle:-***"
      ],
      "metadata": {
        "id": "Pd4A5TdDgBqT"
      }
    },
    {
      "cell_type": "code",
      "source": [
        "!mkdir -p ~/.kaggle\n",
        "!cp kaggle.json ~/.kaggle/"
      ],
      "metadata": {
        "id": "M4ofbRr9LY8-"
      },
      "execution_count": 2,
      "outputs": []
    },
    {
      "cell_type": "code",
      "source": [
        "#api kaggle in kaggle cli\n",
        "!kaggle datasets download rpjinu/moodformusic-dataset"
      ],
      "metadata": {
        "colab": {
          "base_uri": "https://localhost:8080/"
        },
        "id": "v5Lp9gdKLZC7",
        "outputId": "05324864-d224-4129-a1be-22ecf5b0ee34"
      },
      "execution_count": 3,
      "outputs": [
        {
          "output_type": "stream",
          "name": "stdout",
          "text": [
            "Warning: Your Kaggle API key is readable by other users on this system! To fix this, you can run 'chmod 600 /root/.kaggle/kaggle.json'\n",
            "Dataset URL: https://www.kaggle.com/datasets/rpjinu/moodformusic-dataset\n",
            "License(s): MIT\n",
            "Downloading moodformusic-dataset.zip to /content\n",
            " 68% 41.0M/60.4M [00:00<00:00, 84.5MB/s]\n",
            "100% 60.4M/60.4M [00:00<00:00, 107MB/s] \n"
          ]
        }
      ]
    },
    {
      "cell_type": "markdown",
      "source": [
        "#***Unzip the file:-***"
      ],
      "metadata": {
        "id": "cix4NbQXE_AC"
      }
    },
    {
      "cell_type": "code",
      "source": [
        "#unzip the file\n",
        "zip_ref = zipfile.ZipFile('/content/moodformusic-dataset.zip', 'r')\n",
        "zip_ref.extractall('/content')\n",
        "zip_ref.close()"
      ],
      "metadata": {
        "id": "CZT8PXzdLZFo"
      },
      "execution_count": 4,
      "outputs": []
    },
    {
      "cell_type": "code",
      "source": [
        "# Load CSV file\n",
        "music_df = pd.read_csv('/content/data_moods.csv')"
      ],
      "metadata": {
        "id": "bzga4dLELZIg"
      },
      "execution_count": 5,
      "outputs": []
    },
    {
      "cell_type": "code",
      "source": [
        "music_df.head()"
      ],
      "metadata": {
        "colab": {
          "base_uri": "https://localhost:8080/",
          "height": 348
        },
        "id": "F3JkK5gaCp64",
        "outputId": "fd037d1d-3e16-4bd6-dfd3-40bcc97f3d10"
      },
      "execution_count": 6,
      "outputs": [
        {
          "output_type": "execute_result",
          "data": {
            "text/plain": [
              "                                          name                        album  \\\n",
              "0                                         1999                         1999   \n",
              "1                                           23                           23   \n",
              "2                                     9 Crimes                            9   \n",
              "3                               99 Luftballons               99 Luftballons   \n",
              "4  A Boy Brushed Red Living In Black And White  They're Only Chasing Safety   \n",
              "\n",
              "           artist                      id release_date  popularity  length  \\\n",
              "0          Prince  2H7PHVdQ3mXqEHXcvclTB0   1982-10-27          68  379266   \n",
              "1  Blonde Redhead  4HIwL9ii9CcXpTOTzMq0MP   2007-04-16          43  318800   \n",
              "2     Damien Rice  5GZEeowhvSieFDiR8fQ2im   2006-11-06          60  217946   \n",
              "3            Nena  6HA97v4wEGQ5TUClRM0XLc   1984-08-21           2  233000   \n",
              "4       Underoath  47IWLfIKOKhFnz1FUEUIkE   2004-01-01          60  268000   \n",
              "\n",
              "   danceability  acousticness  energy  instrumentalness  liveness  valence  \\\n",
              "0         0.866       0.13700   0.730          0.000000    0.0843    0.625   \n",
              "1         0.381       0.01890   0.832          0.196000    0.1530    0.166   \n",
              "2         0.346       0.91300   0.139          0.000077    0.0934    0.116   \n",
              "3         0.466       0.08900   0.438          0.000006    0.1130    0.587   \n",
              "4         0.419       0.00171   0.932          0.000000    0.1370    0.445   \n",
              "\n",
              "   loudness  speechiness    tempo  key  time_signature       mood  \n",
              "0    -8.201       0.0767  118.523    5               4      Happy  \n",
              "1    -5.069       0.0492  120.255    8               4        Sad  \n",
              "2   -15.326       0.0321  136.168    0               4        Sad  \n",
              "3   -12.858       0.0608  193.100    4               4      Happy  \n",
              "4    -3.604       0.1060  169.881    1               4  Energetic  "
            ],
            "text/html": [
              "\n",
              "  <div id=\"df-b1e70423-3963-401b-b7f8-dc2aeaa2a33d\" class=\"colab-df-container\">\n",
              "    <div>\n",
              "<style scoped>\n",
              "    .dataframe tbody tr th:only-of-type {\n",
              "        vertical-align: middle;\n",
              "    }\n",
              "\n",
              "    .dataframe tbody tr th {\n",
              "        vertical-align: top;\n",
              "    }\n",
              "\n",
              "    .dataframe thead th {\n",
              "        text-align: right;\n",
              "    }\n",
              "</style>\n",
              "<table border=\"1\" class=\"dataframe\">\n",
              "  <thead>\n",
              "    <tr style=\"text-align: right;\">\n",
              "      <th></th>\n",
              "      <th>name</th>\n",
              "      <th>album</th>\n",
              "      <th>artist</th>\n",
              "      <th>id</th>\n",
              "      <th>release_date</th>\n",
              "      <th>popularity</th>\n",
              "      <th>length</th>\n",
              "      <th>danceability</th>\n",
              "      <th>acousticness</th>\n",
              "      <th>energy</th>\n",
              "      <th>instrumentalness</th>\n",
              "      <th>liveness</th>\n",
              "      <th>valence</th>\n",
              "      <th>loudness</th>\n",
              "      <th>speechiness</th>\n",
              "      <th>tempo</th>\n",
              "      <th>key</th>\n",
              "      <th>time_signature</th>\n",
              "      <th>mood</th>\n",
              "    </tr>\n",
              "  </thead>\n",
              "  <tbody>\n",
              "    <tr>\n",
              "      <th>0</th>\n",
              "      <td>1999</td>\n",
              "      <td>1999</td>\n",
              "      <td>Prince</td>\n",
              "      <td>2H7PHVdQ3mXqEHXcvclTB0</td>\n",
              "      <td>1982-10-27</td>\n",
              "      <td>68</td>\n",
              "      <td>379266</td>\n",
              "      <td>0.866</td>\n",
              "      <td>0.13700</td>\n",
              "      <td>0.730</td>\n",
              "      <td>0.000000</td>\n",
              "      <td>0.0843</td>\n",
              "      <td>0.625</td>\n",
              "      <td>-8.201</td>\n",
              "      <td>0.0767</td>\n",
              "      <td>118.523</td>\n",
              "      <td>5</td>\n",
              "      <td>4</td>\n",
              "      <td>Happy</td>\n",
              "    </tr>\n",
              "    <tr>\n",
              "      <th>1</th>\n",
              "      <td>23</td>\n",
              "      <td>23</td>\n",
              "      <td>Blonde Redhead</td>\n",
              "      <td>4HIwL9ii9CcXpTOTzMq0MP</td>\n",
              "      <td>2007-04-16</td>\n",
              "      <td>43</td>\n",
              "      <td>318800</td>\n",
              "      <td>0.381</td>\n",
              "      <td>0.01890</td>\n",
              "      <td>0.832</td>\n",
              "      <td>0.196000</td>\n",
              "      <td>0.1530</td>\n",
              "      <td>0.166</td>\n",
              "      <td>-5.069</td>\n",
              "      <td>0.0492</td>\n",
              "      <td>120.255</td>\n",
              "      <td>8</td>\n",
              "      <td>4</td>\n",
              "      <td>Sad</td>\n",
              "    </tr>\n",
              "    <tr>\n",
              "      <th>2</th>\n",
              "      <td>9 Crimes</td>\n",
              "      <td>9</td>\n",
              "      <td>Damien Rice</td>\n",
              "      <td>5GZEeowhvSieFDiR8fQ2im</td>\n",
              "      <td>2006-11-06</td>\n",
              "      <td>60</td>\n",
              "      <td>217946</td>\n",
              "      <td>0.346</td>\n",
              "      <td>0.91300</td>\n",
              "      <td>0.139</td>\n",
              "      <td>0.000077</td>\n",
              "      <td>0.0934</td>\n",
              "      <td>0.116</td>\n",
              "      <td>-15.326</td>\n",
              "      <td>0.0321</td>\n",
              "      <td>136.168</td>\n",
              "      <td>0</td>\n",
              "      <td>4</td>\n",
              "      <td>Sad</td>\n",
              "    </tr>\n",
              "    <tr>\n",
              "      <th>3</th>\n",
              "      <td>99 Luftballons</td>\n",
              "      <td>99 Luftballons</td>\n",
              "      <td>Nena</td>\n",
              "      <td>6HA97v4wEGQ5TUClRM0XLc</td>\n",
              "      <td>1984-08-21</td>\n",
              "      <td>2</td>\n",
              "      <td>233000</td>\n",
              "      <td>0.466</td>\n",
              "      <td>0.08900</td>\n",
              "      <td>0.438</td>\n",
              "      <td>0.000006</td>\n",
              "      <td>0.1130</td>\n",
              "      <td>0.587</td>\n",
              "      <td>-12.858</td>\n",
              "      <td>0.0608</td>\n",
              "      <td>193.100</td>\n",
              "      <td>4</td>\n",
              "      <td>4</td>\n",
              "      <td>Happy</td>\n",
              "    </tr>\n",
              "    <tr>\n",
              "      <th>4</th>\n",
              "      <td>A Boy Brushed Red Living In Black And White</td>\n",
              "      <td>They're Only Chasing Safety</td>\n",
              "      <td>Underoath</td>\n",
              "      <td>47IWLfIKOKhFnz1FUEUIkE</td>\n",
              "      <td>2004-01-01</td>\n",
              "      <td>60</td>\n",
              "      <td>268000</td>\n",
              "      <td>0.419</td>\n",
              "      <td>0.00171</td>\n",
              "      <td>0.932</td>\n",
              "      <td>0.000000</td>\n",
              "      <td>0.1370</td>\n",
              "      <td>0.445</td>\n",
              "      <td>-3.604</td>\n",
              "      <td>0.1060</td>\n",
              "      <td>169.881</td>\n",
              "      <td>1</td>\n",
              "      <td>4</td>\n",
              "      <td>Energetic</td>\n",
              "    </tr>\n",
              "  </tbody>\n",
              "</table>\n",
              "</div>\n",
              "    <div class=\"colab-df-buttons\">\n",
              "\n",
              "  <div class=\"colab-df-container\">\n",
              "    <button class=\"colab-df-convert\" onclick=\"convertToInteractive('df-b1e70423-3963-401b-b7f8-dc2aeaa2a33d')\"\n",
              "            title=\"Convert this dataframe to an interactive table.\"\n",
              "            style=\"display:none;\">\n",
              "\n",
              "  <svg xmlns=\"http://www.w3.org/2000/svg\" height=\"24px\" viewBox=\"0 -960 960 960\">\n",
              "    <path d=\"M120-120v-720h720v720H120Zm60-500h600v-160H180v160Zm220 220h160v-160H400v160Zm0 220h160v-160H400v160ZM180-400h160v-160H180v160Zm440 0h160v-160H620v160ZM180-180h160v-160H180v160Zm440 0h160v-160H620v160Z\"/>\n",
              "  </svg>\n",
              "    </button>\n",
              "\n",
              "  <style>\n",
              "    .colab-df-container {\n",
              "      display:flex;\n",
              "      gap: 12px;\n",
              "    }\n",
              "\n",
              "    .colab-df-convert {\n",
              "      background-color: #E8F0FE;\n",
              "      border: none;\n",
              "      border-radius: 50%;\n",
              "      cursor: pointer;\n",
              "      display: none;\n",
              "      fill: #1967D2;\n",
              "      height: 32px;\n",
              "      padding: 0 0 0 0;\n",
              "      width: 32px;\n",
              "    }\n",
              "\n",
              "    .colab-df-convert:hover {\n",
              "      background-color: #E2EBFA;\n",
              "      box-shadow: 0px 1px 2px rgba(60, 64, 67, 0.3), 0px 1px 3px 1px rgba(60, 64, 67, 0.15);\n",
              "      fill: #174EA6;\n",
              "    }\n",
              "\n",
              "    .colab-df-buttons div {\n",
              "      margin-bottom: 4px;\n",
              "    }\n",
              "\n",
              "    [theme=dark] .colab-df-convert {\n",
              "      background-color: #3B4455;\n",
              "      fill: #D2E3FC;\n",
              "    }\n",
              "\n",
              "    [theme=dark] .colab-df-convert:hover {\n",
              "      background-color: #434B5C;\n",
              "      box-shadow: 0px 1px 3px 1px rgba(0, 0, 0, 0.15);\n",
              "      filter: drop-shadow(0px 1px 2px rgba(0, 0, 0, 0.3));\n",
              "      fill: #FFFFFF;\n",
              "    }\n",
              "  </style>\n",
              "\n",
              "    <script>\n",
              "      const buttonEl =\n",
              "        document.querySelector('#df-b1e70423-3963-401b-b7f8-dc2aeaa2a33d button.colab-df-convert');\n",
              "      buttonEl.style.display =\n",
              "        google.colab.kernel.accessAllowed ? 'block' : 'none';\n",
              "\n",
              "      async function convertToInteractive(key) {\n",
              "        const element = document.querySelector('#df-b1e70423-3963-401b-b7f8-dc2aeaa2a33d');\n",
              "        const dataTable =\n",
              "          await google.colab.kernel.invokeFunction('convertToInteractive',\n",
              "                                                    [key], {});\n",
              "        if (!dataTable) return;\n",
              "\n",
              "        const docLinkHtml = 'Like what you see? Visit the ' +\n",
              "          '<a target=\"_blank\" href=https://colab.research.google.com/notebooks/data_table.ipynb>data table notebook</a>'\n",
              "          + ' to learn more about interactive tables.';\n",
              "        element.innerHTML = '';\n",
              "        dataTable['output_type'] = 'display_data';\n",
              "        await google.colab.output.renderOutput(dataTable, element);\n",
              "        const docLink = document.createElement('div');\n",
              "        docLink.innerHTML = docLinkHtml;\n",
              "        element.appendChild(docLink);\n",
              "      }\n",
              "    </script>\n",
              "  </div>\n",
              "\n",
              "\n",
              "<div id=\"df-61234f02-395b-4420-b68d-d9478ea495fc\">\n",
              "  <button class=\"colab-df-quickchart\" onclick=\"quickchart('df-61234f02-395b-4420-b68d-d9478ea495fc')\"\n",
              "            title=\"Suggest charts\"\n",
              "            style=\"display:none;\">\n",
              "\n",
              "<svg xmlns=\"http://www.w3.org/2000/svg\" height=\"24px\"viewBox=\"0 0 24 24\"\n",
              "     width=\"24px\">\n",
              "    <g>\n",
              "        <path d=\"M19 3H5c-1.1 0-2 .9-2 2v14c0 1.1.9 2 2 2h14c1.1 0 2-.9 2-2V5c0-1.1-.9-2-2-2zM9 17H7v-7h2v7zm4 0h-2V7h2v10zm4 0h-2v-4h2v4z\"/>\n",
              "    </g>\n",
              "</svg>\n",
              "  </button>\n",
              "\n",
              "<style>\n",
              "  .colab-df-quickchart {\n",
              "      --bg-color: #E8F0FE;\n",
              "      --fill-color: #1967D2;\n",
              "      --hover-bg-color: #E2EBFA;\n",
              "      --hover-fill-color: #174EA6;\n",
              "      --disabled-fill-color: #AAA;\n",
              "      --disabled-bg-color: #DDD;\n",
              "  }\n",
              "\n",
              "  [theme=dark] .colab-df-quickchart {\n",
              "      --bg-color: #3B4455;\n",
              "      --fill-color: #D2E3FC;\n",
              "      --hover-bg-color: #434B5C;\n",
              "      --hover-fill-color: #FFFFFF;\n",
              "      --disabled-bg-color: #3B4455;\n",
              "      --disabled-fill-color: #666;\n",
              "  }\n",
              "\n",
              "  .colab-df-quickchart {\n",
              "    background-color: var(--bg-color);\n",
              "    border: none;\n",
              "    border-radius: 50%;\n",
              "    cursor: pointer;\n",
              "    display: none;\n",
              "    fill: var(--fill-color);\n",
              "    height: 32px;\n",
              "    padding: 0;\n",
              "    width: 32px;\n",
              "  }\n",
              "\n",
              "  .colab-df-quickchart:hover {\n",
              "    background-color: var(--hover-bg-color);\n",
              "    box-shadow: 0 1px 2px rgba(60, 64, 67, 0.3), 0 1px 3px 1px rgba(60, 64, 67, 0.15);\n",
              "    fill: var(--button-hover-fill-color);\n",
              "  }\n",
              "\n",
              "  .colab-df-quickchart-complete:disabled,\n",
              "  .colab-df-quickchart-complete:disabled:hover {\n",
              "    background-color: var(--disabled-bg-color);\n",
              "    fill: var(--disabled-fill-color);\n",
              "    box-shadow: none;\n",
              "  }\n",
              "\n",
              "  .colab-df-spinner {\n",
              "    border: 2px solid var(--fill-color);\n",
              "    border-color: transparent;\n",
              "    border-bottom-color: var(--fill-color);\n",
              "    animation:\n",
              "      spin 1s steps(1) infinite;\n",
              "  }\n",
              "\n",
              "  @keyframes spin {\n",
              "    0% {\n",
              "      border-color: transparent;\n",
              "      border-bottom-color: var(--fill-color);\n",
              "      border-left-color: var(--fill-color);\n",
              "    }\n",
              "    20% {\n",
              "      border-color: transparent;\n",
              "      border-left-color: var(--fill-color);\n",
              "      border-top-color: var(--fill-color);\n",
              "    }\n",
              "    30% {\n",
              "      border-color: transparent;\n",
              "      border-left-color: var(--fill-color);\n",
              "      border-top-color: var(--fill-color);\n",
              "      border-right-color: var(--fill-color);\n",
              "    }\n",
              "    40% {\n",
              "      border-color: transparent;\n",
              "      border-right-color: var(--fill-color);\n",
              "      border-top-color: var(--fill-color);\n",
              "    }\n",
              "    60% {\n",
              "      border-color: transparent;\n",
              "      border-right-color: var(--fill-color);\n",
              "    }\n",
              "    80% {\n",
              "      border-color: transparent;\n",
              "      border-right-color: var(--fill-color);\n",
              "      border-bottom-color: var(--fill-color);\n",
              "    }\n",
              "    90% {\n",
              "      border-color: transparent;\n",
              "      border-bottom-color: var(--fill-color);\n",
              "    }\n",
              "  }\n",
              "</style>\n",
              "\n",
              "  <script>\n",
              "    async function quickchart(key) {\n",
              "      const quickchartButtonEl =\n",
              "        document.querySelector('#' + key + ' button');\n",
              "      quickchartButtonEl.disabled = true;  // To prevent multiple clicks.\n",
              "      quickchartButtonEl.classList.add('colab-df-spinner');\n",
              "      try {\n",
              "        const charts = await google.colab.kernel.invokeFunction(\n",
              "            'suggestCharts', [key], {});\n",
              "      } catch (error) {\n",
              "        console.error('Error during call to suggestCharts:', error);\n",
              "      }\n",
              "      quickchartButtonEl.classList.remove('colab-df-spinner');\n",
              "      quickchartButtonEl.classList.add('colab-df-quickchart-complete');\n",
              "    }\n",
              "    (() => {\n",
              "      let quickchartButtonEl =\n",
              "        document.querySelector('#df-61234f02-395b-4420-b68d-d9478ea495fc button');\n",
              "      quickchartButtonEl.style.display =\n",
              "        google.colab.kernel.accessAllowed ? 'block' : 'none';\n",
              "    })();\n",
              "  </script>\n",
              "</div>\n",
              "\n",
              "    </div>\n",
              "  </div>\n"
            ],
            "application/vnd.google.colaboratory.intrinsic+json": {
              "type": "dataframe",
              "variable_name": "music_df",
              "summary": "{\n  \"name\": \"music_df\",\n  \"rows\": 686,\n  \"fields\": [\n    {\n      \"column\": \"name\",\n      \"properties\": {\n        \"dtype\": \"string\",\n        \"num_unique_values\": 686,\n        \"samples\": [\n          \"Kaolnite\",\n          \"Wonderful Together (feat. Envy Monroe)\",\n          \"I'm Not Okay (I Promise)\"\n        ],\n        \"semantic_type\": \"\",\n        \"description\": \"\"\n      }\n    },\n    {\n      \"column\": \"album\",\n      \"properties\": {\n        \"dtype\": \"string\",\n        \"num_unique_values\": 661,\n        \"samples\": [\n          \"Words I Heard\",\n          \"Built From Scratch\",\n          \"Dear Diary\"\n        ],\n        \"semantic_type\": \"\",\n        \"description\": \"\"\n      }\n    },\n    {\n      \"column\": \"artist\",\n      \"properties\": {\n        \"dtype\": \"string\",\n        \"num_unique_values\": 540,\n        \"samples\": [\n          \"Godsmack\",\n          \"Isaac Elton\",\n          \"Jef Martens\"\n        ],\n        \"semantic_type\": \"\",\n        \"description\": \"\"\n      }\n    },\n    {\n      \"column\": \"id\",\n      \"properties\": {\n        \"dtype\": \"string\",\n        \"num_unique_values\": 686,\n        \"samples\": [\n          \"4fItBSHKBcgKWixN1Idie5\",\n          \"3UaStdVN7y9A6ktTmkFDTk\",\n          \"7lRlq939cDG4SzWOF4VAnd\"\n        ],\n        \"semantic_type\": \"\",\n        \"description\": \"\"\n      }\n    },\n    {\n      \"column\": \"release_date\",\n      \"properties\": {\n        \"dtype\": \"string\",\n        \"num_unique_values\": 450,\n        \"samples\": [\n          \"2019-02-26\",\n          \"2019-11-11\",\n          \"2019-09-27\"\n        ],\n        \"semantic_type\": \"\",\n        \"description\": \"\"\n      }\n    },\n    {\n      \"column\": \"popularity\",\n      \"properties\": {\n        \"dtype\": \"number\",\n        \"std\": 23,\n        \"min\": 0,\n        \"max\": 88,\n        \"num_unique_values\": 83,\n        \"samples\": [\n          50,\n          68,\n          44\n        ],\n        \"semantic_type\": \"\",\n        \"description\": \"\"\n      }\n    },\n    {\n      \"column\": \"length\",\n      \"properties\": {\n        \"dtype\": \"number\",\n        \"std\": 63399,\n        \"min\": 76773,\n        \"max\": 518373,\n        \"num_unique_values\": 673,\n        \"samples\": [\n          495400,\n          227266,\n          213373\n        ],\n        \"semantic_type\": \"\",\n        \"description\": \"\"\n      }\n    },\n    {\n      \"column\": \"danceability\",\n      \"properties\": {\n        \"dtype\": \"number\",\n        \"std\": 0.15895460348923485,\n        \"min\": 0.0789,\n        \"max\": 0.941,\n        \"num_unique_values\": 409,\n        \"samples\": [\n          0.64,\n          0.605,\n          0.701\n        ],\n        \"semantic_type\": \"\",\n        \"description\": \"\"\n      }\n    },\n    {\n      \"column\": \"acousticness\",\n      \"properties\": {\n        \"dtype\": \"number\",\n        \"std\": 0.41072949584765744,\n        \"min\": 5.36e-06,\n        \"max\": 0.996,\n        \"num_unique_values\": 522,\n        \"samples\": [\n          0.0262,\n          0.343,\n          0.994\n        ],\n        \"semantic_type\": \"\",\n        \"description\": \"\"\n      }\n    },\n    {\n      \"column\": \"energy\",\n      \"properties\": {\n        \"dtype\": \"number\",\n        \"std\": 0.32649006583012014,\n        \"min\": 0.00129,\n        \"max\": 0.994,\n        \"num_unique_values\": 510,\n        \"samples\": [\n          0.8959999999999999,\n          0.0077,\n          0.378\n        ],\n        \"semantic_type\": \"\",\n        \"description\": \"\"\n      }\n    },\n    {\n      \"column\": \"instrumentalness\",\n      \"properties\": {\n        \"dtype\": \"number\",\n        \"std\": 0.41051738163068147,\n        \"min\": 0.0,\n        \"max\": 0.966,\n        \"num_unique_values\": 472,\n        \"samples\": [\n          1.08e-06,\n          0.926,\n          0.0679\n        ],\n        \"semantic_type\": \"\",\n        \"description\": \"\"\n      }\n    },\n    {\n      \"column\": \"liveness\",\n      \"properties\": {\n        \"dtype\": \"number\",\n        \"std\": 0.14212755587434064,\n        \"min\": 0.0318,\n        \"max\": 0.963,\n        \"num_unique_values\": 388,\n        \"samples\": [\n          0.175,\n          0.156,\n          0.0737\n        ],\n        \"semantic_type\": \"\",\n        \"description\": \"\"\n      }\n    },\n    {\n      \"column\": \"valence\",\n      \"properties\": {\n        \"dtype\": \"number\",\n        \"std\": 0.2523038620731956,\n        \"min\": 0.0353,\n        \"max\": 0.977,\n        \"num_unique_values\": 507,\n        \"samples\": [\n          0.138,\n          0.414,\n          0.0774\n        ],\n        \"semantic_type\": \"\",\n        \"description\": \"\"\n      }\n    },\n    {\n      \"column\": \"loudness\",\n      \"properties\": {\n        \"dtype\": \"number\",\n        \"std\": 7.468628623052026,\n        \"min\": -42.018,\n        \"max\": 1.342,\n        \"num_unique_values\": 671,\n        \"samples\": [\n          -7.693,\n          -18.225,\n          -14.421\n        ],\n        \"semantic_type\": \"\",\n        \"description\": \"\"\n      }\n    },\n    {\n      \"column\": \"speechiness\",\n      \"properties\": {\n        \"dtype\": \"number\",\n        \"std\": 0.041373826578650554,\n        \"min\": 0.0232,\n        \"max\": 0.416,\n        \"num_unique_values\": 379,\n        \"samples\": [\n          0.0517,\n          0.173,\n          0.0374\n        ],\n        \"semantic_type\": \"\",\n        \"description\": \"\"\n      }\n    },\n    {\n      \"column\": \"tempo\",\n      \"properties\": {\n        \"dtype\": \"number\",\n        \"std\": 28.978685248557404,\n        \"min\": 50.96,\n        \"max\": 217.95,\n        \"num_unique_values\": 673,\n        \"samples\": [\n          159.37,\n          105.929,\n          124.989\n        ],\n        \"semantic_type\": \"\",\n        \"description\": \"\"\n      }\n    },\n    {\n      \"column\": \"key\",\n      \"properties\": {\n        \"dtype\": \"number\",\n        \"std\": 3,\n        \"min\": 0,\n        \"max\": 11,\n        \"num_unique_values\": 12,\n        \"samples\": [\n          2,\n          9,\n          5\n        ],\n        \"semantic_type\": \"\",\n        \"description\": \"\"\n      }\n    },\n    {\n      \"column\": \"time_signature\",\n      \"properties\": {\n        \"dtype\": \"number\",\n        \"std\": 0,\n        \"min\": 1,\n        \"max\": 5,\n        \"num_unique_values\": 4,\n        \"samples\": [\n          5,\n          1,\n          4\n        ],\n        \"semantic_type\": \"\",\n        \"description\": \"\"\n      }\n    },\n    {\n      \"column\": \"mood\",\n      \"properties\": {\n        \"dtype\": \"category\",\n        \"num_unique_values\": 4,\n        \"samples\": [\n          \"Sad\",\n          \"Calm\",\n          \"Happy\"\n        ],\n        \"semantic_type\": \"\",\n        \"description\": \"\"\n      }\n    }\n  ]\n}"
            }
          },
          "metadata": {},
          "execution_count": 6
        }
      ]
    },
    {
      "cell_type": "code",
      "source": [
        "# Set paths for training and testing data\n",
        "train = '/content/train'\n",
        "test = '/content/test'"
      ],
      "metadata": {
        "id": "dKjJJShWDPV1"
      },
      "execution_count": 7,
      "outputs": []
    },
    {
      "cell_type": "code",
      "source": [
        "music_df.info()"
      ],
      "metadata": {
        "colab": {
          "base_uri": "https://localhost:8080/"
        },
        "id": "59BEGppzFKko",
        "outputId": "632b4ce0-c0ff-4ca3-9c8e-982efb62d3c5"
      },
      "execution_count": 14,
      "outputs": [
        {
          "output_type": "stream",
          "name": "stdout",
          "text": [
            "<class 'pandas.core.frame.DataFrame'>\n",
            "RangeIndex: 686 entries, 0 to 685\n",
            "Data columns (total 19 columns):\n",
            " #   Column            Non-Null Count  Dtype  \n",
            "---  ------            --------------  -----  \n",
            " 0   name              686 non-null    object \n",
            " 1   album             686 non-null    object \n",
            " 2   artist            686 non-null    object \n",
            " 3   id                686 non-null    object \n",
            " 4   release_date      686 non-null    object \n",
            " 5   popularity        686 non-null    int64  \n",
            " 6   length            686 non-null    int64  \n",
            " 7   danceability      686 non-null    float64\n",
            " 8   acousticness      686 non-null    float64\n",
            " 9   energy            686 non-null    float64\n",
            " 10  instrumentalness  686 non-null    float64\n",
            " 11  liveness          686 non-null    float64\n",
            " 12  valence           686 non-null    float64\n",
            " 13  loudness          686 non-null    float64\n",
            " 14  speechiness       686 non-null    float64\n",
            " 15  tempo             686 non-null    float64\n",
            " 16  key               686 non-null    int64  \n",
            " 17  time_signature    686 non-null    int64  \n",
            " 18  mood              686 non-null    object \n",
            "dtypes: float64(9), int64(4), object(6)\n",
            "memory usage: 102.0+ KB\n"
          ]
        }
      ]
    },
    {
      "cell_type": "code",
      "source": [
        "#check the null values\n",
        "music_df.isnull().sum().any()"
      ],
      "metadata": {
        "colab": {
          "base_uri": "https://localhost:8080/"
        },
        "id": "xpFxYZDfQwaq",
        "outputId": "41b50dc3-2aa5-498e-d92b-390bb0029b58"
      },
      "execution_count": 21,
      "outputs": [
        {
          "output_type": "execute_result",
          "data": {
            "text/plain": [
              "False"
            ]
          },
          "metadata": {},
          "execution_count": 21
        }
      ]
    },
    {
      "cell_type": "code",
      "source": [
        "#check dupliacted\n",
        "music_df.duplicated().sum()"
      ],
      "metadata": {
        "colab": {
          "base_uri": "https://localhost:8080/"
        },
        "id": "1Ld2uds4Q2p7",
        "outputId": "c2fdf933-087c-4b15-f0b3-df64b67cde33"
      },
      "execution_count": 22,
      "outputs": [
        {
          "output_type": "execute_result",
          "data": {
            "text/plain": [
              "0"
            ]
          },
          "metadata": {},
          "execution_count": 22
        }
      ]
    },
    {
      "cell_type": "code",
      "source": [
        "music_df['mood'].value_counts()"
      ],
      "metadata": {
        "colab": {
          "base_uri": "https://localhost:8080/",
          "height": 241
        },
        "id": "ttMwY8raVRvH",
        "outputId": "157b922f-3cfc-4cd6-c30d-6c64bd3cf60c"
      },
      "execution_count": 35,
      "outputs": [
        {
          "output_type": "execute_result",
          "data": {
            "text/plain": [
              "mood\n",
              "Sad          197\n",
              "Calm         195\n",
              "Energetic    154\n",
              "Happy        140\n",
              "Name: count, dtype: int64"
            ],
            "text/html": [
              "<div>\n",
              "<style scoped>\n",
              "    .dataframe tbody tr th:only-of-type {\n",
              "        vertical-align: middle;\n",
              "    }\n",
              "\n",
              "    .dataframe tbody tr th {\n",
              "        vertical-align: top;\n",
              "    }\n",
              "\n",
              "    .dataframe thead th {\n",
              "        text-align: right;\n",
              "    }\n",
              "</style>\n",
              "<table border=\"1\" class=\"dataframe\">\n",
              "  <thead>\n",
              "    <tr style=\"text-align: right;\">\n",
              "      <th></th>\n",
              "      <th>count</th>\n",
              "    </tr>\n",
              "    <tr>\n",
              "      <th>mood</th>\n",
              "      <th></th>\n",
              "    </tr>\n",
              "  </thead>\n",
              "  <tbody>\n",
              "    <tr>\n",
              "      <th>Sad</th>\n",
              "      <td>197</td>\n",
              "    </tr>\n",
              "    <tr>\n",
              "      <th>Calm</th>\n",
              "      <td>195</td>\n",
              "    </tr>\n",
              "    <tr>\n",
              "      <th>Energetic</th>\n",
              "      <td>154</td>\n",
              "    </tr>\n",
              "    <tr>\n",
              "      <th>Happy</th>\n",
              "      <td>140</td>\n",
              "    </tr>\n",
              "  </tbody>\n",
              "</table>\n",
              "</div><br><label><b>dtype:</b> int64</label>"
            ]
          },
          "metadata": {},
          "execution_count": 35
        }
      ]
    },
    {
      "cell_type": "markdown",
      "source": [
        "## ***Data Preprocessing:-***"
      ],
      "metadata": {
        "id": "1dNewIYW8-nn"
      }
    },
    {
      "cell_type": "code",
      "source": [
        "img_width, img_height = 150, 150\n",
        "batch_size = 32\n",
        "\n",
        "train_datagen = ImageDataGenerator(\n",
        "    rescale=1.0/255.0,\n",
        "    rotation_range=30,\n",
        "    width_shift_range=0.2,\n",
        "    height_shift_range=0.2,\n",
        "    shear_range=0.2,\n",
        "    zoom_range=0.2,\n",
        "    horizontal_flip=True,\n",
        "    fill_mode='nearest'\n",
        ")"
      ],
      "metadata": {
        "id": "EqXOctigLZOR"
      },
      "execution_count": 8,
      "outputs": []
    },
    {
      "cell_type": "code",
      "source": [
        "test_datagen = ImageDataGenerator(rescale=1.0/255.0)\n",
        "\n",
        "train_generator = train_datagen.flow_from_directory(\n",
        "    train,\n",
        "    target_size=(img_width, img_height),\n",
        "    batch_size=batch_size,\n",
        "    class_mode='categorical'\n",
        ")\n",
        "\n",
        "test_generator = test_datagen.flow_from_directory(\n",
        "    test,\n",
        "    target_size=(img_width, img_height),\n",
        "    batch_size=batch_size,\n",
        "    class_mode='categorical'\n",
        ")\n"
      ],
      "metadata": {
        "colab": {
          "base_uri": "https://localhost:8080/"
        },
        "id": "9f8QOkGT7yOV",
        "outputId": "0f4e0b65-43bc-44da-b625-2a1eddea272c"
      },
      "execution_count": 9,
      "outputs": [
        {
          "output_type": "stream",
          "name": "stdout",
          "text": [
            "Found 28709 images belonging to 7 classes.\n",
            "Found 7178 images belonging to 7 classes.\n"
          ]
        }
      ]
    },
    {
      "cell_type": "code",
      "source": [
        "# Building the Mood Classification Model\n",
        "model = Sequential([\n",
        "    Conv2D(32, (3, 3), activation='relu', input_shape=(img_width, img_height, 3)),\n",
        "    MaxPooling2D(pool_size=(2, 2)),\n",
        "    Conv2D(64, (3, 3), activation='relu'),\n",
        "    MaxPooling2D(pool_size=(2, 2)),\n",
        "    Conv2D(128, (3, 3), activation='relu'),\n",
        "    MaxPooling2D(pool_size=(2, 2)),\n",
        "    Flatten(),\n",
        "    Dense(256, activation='relu'),\n",
        "    Dropout(0.5),\n",
        "    Dense(len(train_generator.class_indices), activation='softmax')\n",
        "])\n"
      ],
      "metadata": {
        "id": "cBm419eY7yRr"
      },
      "execution_count": 10,
      "outputs": []
    },
    {
      "cell_type": "code",
      "source": [
        "# Compile the model\n",
        "model.compile(\n",
        "    optimizer=Adam(learning_rate=0.001),\n",
        "    loss='categorical_crossentropy',\n",
        "    metrics=['accuracy']\n",
        ")"
      ],
      "metadata": {
        "id": "zJ3WHbn47yUv"
      },
      "execution_count": 11,
      "outputs": []
    },
    {
      "cell_type": "code",
      "source": [
        "# Train the model\n",
        "history = model.fit(\n",
        "    train_generator,\n",
        "    epochs=10,\n",
        "    validation_data=test_generator\n",
        ")"
      ],
      "metadata": {
        "colab": {
          "base_uri": "https://localhost:8080/"
        },
        "id": "aKimJy5Z7yXf",
        "outputId": "40d68a6c-2cac-4382-838f-08463ae1bf48"
      },
      "execution_count": 12,
      "outputs": [
        {
          "output_type": "stream",
          "name": "stdout",
          "text": [
            "Epoch 1/10\n",
            "\u001b[1m898/898\u001b[0m \u001b[32m━━━━━━━━━━━━━━━━━━━━\u001b[0m\u001b[37m\u001b[0m \u001b[1m189s\u001b[0m 203ms/step - accuracy: 0.2332 - loss: 1.8500 - val_accuracy: 0.2604 - val_loss: 1.7670\n",
            "Epoch 2/10\n",
            "\u001b[1m898/898\u001b[0m \u001b[32m━━━━━━━━━━━━━━━━━━━━\u001b[0m\u001b[37m\u001b[0m \u001b[1m189s\u001b[0m 194ms/step - accuracy: 0.2598 - loss: 1.7867 - val_accuracy: 0.2811 - val_loss: 1.7402\n",
            "Epoch 3/10\n",
            "\u001b[1m898/898\u001b[0m \u001b[32m━━━━━━━━━━━━━━━━━━━━\u001b[0m\u001b[37m\u001b[0m \u001b[1m181s\u001b[0m 200ms/step - accuracy: 0.2673 - loss: 1.7626 - val_accuracy: 0.3011 - val_loss: 1.7174\n",
            "Epoch 4/10\n",
            "\u001b[1m898/898\u001b[0m \u001b[32m━━━━━━━━━━━━━━━━━━━━\u001b[0m\u001b[37m\u001b[0m \u001b[1m176s\u001b[0m 195ms/step - accuracy: 0.2723 - loss: 1.7608 - val_accuracy: 0.3086 - val_loss: 1.6911\n",
            "Epoch 5/10\n",
            "\u001b[1m898/898\u001b[0m \u001b[32m━━━━━━━━━━━━━━━━━━━━\u001b[0m\u001b[37m\u001b[0m \u001b[1m201s\u001b[0m 194ms/step - accuracy: 0.2863 - loss: 1.7377 - val_accuracy: 0.3468 - val_loss: 1.6451\n",
            "Epoch 6/10\n",
            "\u001b[1m898/898\u001b[0m \u001b[32m━━━━━━━━━━━━━━━━━━━━\u001b[0m\u001b[37m\u001b[0m \u001b[1m202s\u001b[0m 194ms/step - accuracy: 0.3004 - loss: 1.7158 - val_accuracy: 0.3622 - val_loss: 1.6493\n",
            "Epoch 7/10\n",
            "\u001b[1m898/898\u001b[0m \u001b[32m━━━━━━━━━━━━━━━━━━━━\u001b[0m\u001b[37m\u001b[0m \u001b[1m199s\u001b[0m 191ms/step - accuracy: 0.3193 - loss: 1.6836 - val_accuracy: 0.3991 - val_loss: 1.5615\n",
            "Epoch 8/10\n",
            "\u001b[1m898/898\u001b[0m \u001b[32m━━━━━━━━━━━━━━━━━━━━\u001b[0m\u001b[37m\u001b[0m \u001b[1m203s\u001b[0m 192ms/step - accuracy: 0.3355 - loss: 1.6531 - val_accuracy: 0.3968 - val_loss: 1.5298\n",
            "Epoch 9/10\n",
            "\u001b[1m898/898\u001b[0m \u001b[32m━━━━━━━━━━━━━━━━━━━━\u001b[0m\u001b[37m\u001b[0m \u001b[1m179s\u001b[0m 198ms/step - accuracy: 0.3618 - loss: 1.6136 - val_accuracy: 0.4260 - val_loss: 1.4811\n",
            "Epoch 10/10\n",
            "\u001b[1m898/898\u001b[0m \u001b[32m━━━━━━━━━━━━━━━━━━━━\u001b[0m\u001b[37m\u001b[0m \u001b[1m174s\u001b[0m 193ms/step - accuracy: 0.3720 - loss: 1.5874 - val_accuracy: 0.4475 - val_loss: 1.4336\n"
          ]
        }
      ]
    },
    {
      "cell_type": "code",
      "source": [
        "# Evaluate the model\n",
        "eval_result = model.evaluate(test_generator)\n",
        "print(f\"Test Loss: {eval_result[0]}, Test Accuracy: {eval_result[1]}\")"
      ],
      "metadata": {
        "colab": {
          "base_uri": "https://localhost:8080/"
        },
        "id": "C_i5hdGQLZRK",
        "outputId": "fa3bd251-005e-4b9d-effc-5860b2467844"
      },
      "execution_count": 13,
      "outputs": [
        {
          "output_type": "stream",
          "name": "stdout",
          "text": [
            "\u001b[1m225/225\u001b[0m \u001b[32m━━━━━━━━━━━━━━━━━━━━\u001b[0m\u001b[37m\u001b[0m \u001b[1m5s\u001b[0m 21ms/step - accuracy: 0.4428 - loss: 1.4497\n",
            "Test Loss: 1.433569073677063, Test Accuracy: 0.44747841358184814\n"
          ]
        }
      ]
    },
    {
      "cell_type": "code",
      "source": [
        "# Generate Classification Report\n",
        "test_steps_per_epoch = np.math.ceil(test_generator.samples / test_generator.batch_size)\n",
        "y_pred = model.predict(test_generator, steps=test_steps_per_epoch)\n",
        "y_pred_classes = np.argmax(y_pred, axis=1)\n",
        "y_true = test_generator.classes"
      ],
      "metadata": {
        "colab": {
          "base_uri": "https://localhost:8080/"
        },
        "id": "1mzC8q2ELZTx",
        "outputId": "3b35ffd8-fb2c-4661-946a-7a10c6035005"
      },
      "execution_count": 17,
      "outputs": [
        {
          "output_type": "stream",
          "name": "stdout",
          "text": [
            "\u001b[1m225/225\u001b[0m \u001b[32m━━━━━━━━━━━━━━━━━━━━\u001b[0m\u001b[37m\u001b[0m \u001b[1m6s\u001b[0m 25ms/step\n"
          ]
        }
      ]
    },
    {
      "cell_type": "code",
      "source": [
        "print(\"Classification Report: \\n\", classification_report(y_true, y_pred_classes, target_names=test_generator.class_indices.keys()))"
      ],
      "metadata": {
        "colab": {
          "base_uri": "https://localhost:8080/"
        },
        "id": "Mg8dDkNpGOVI",
        "outputId": "5e9508f0-9e81-4a23-e514-f75ddd67a31c"
      },
      "execution_count": 18,
      "outputs": [
        {
          "output_type": "stream",
          "name": "stdout",
          "text": [
            "Classification Report: \n",
            "               precision    recall  f1-score   support\n",
            "\n",
            "       angry       0.16      0.05      0.08       958\n",
            "     disgust       0.00      0.00      0.00       111\n",
            "        fear       0.13      0.07      0.09      1024\n",
            "       happy       0.23      0.34      0.28      1774\n",
            "     neutral       0.17      0.21      0.18      1233\n",
            "         sad       0.17      0.17      0.17      1247\n",
            "    surprise       0.11      0.13      0.12       831\n",
            "\n",
            "    accuracy                           0.18      7178\n",
            "   macro avg       0.14      0.14      0.13      7178\n",
            "weighted avg       0.17      0.18      0.17      7178\n",
            "\n"
          ]
        }
      ]
    },
    {
      "cell_type": "code",
      "source": [
        "# Save the model\n",
        "model.save('mood_classification_model.h5')"
      ],
      "metadata": {
        "colab": {
          "base_uri": "https://localhost:8080/"
        },
        "id": "g2nt4z1KGORc",
        "outputId": "6b4601a5-c73d-4441-fc6b-630a975ed8a5"
      },
      "execution_count": 19,
      "outputs": [
        {
          "output_type": "stream",
          "name": "stderr",
          "text": [
            "WARNING:absl:You are saving your model as an HDF5 file via `model.save()` or `keras.saving.save_model(model)`. This file format is considered legacy. We recommend using instead the native Keras format, e.g. `model.save('my_model.keras')` or `keras.saving.save_model(model, 'my_model.keras')`. \n"
          ]
        }
      ]
    },
    {
      "cell_type": "markdown",
      "source": [
        "#check out model working or not:_"
      ],
      "metadata": {
        "id": "R_0CMU9TRfOP"
      }
    },
    {
      "cell_type": "code",
      "source": [
        "# Music Recommendation Engine\n",
        "mood_to_music = {\n",
        "    'Happy': music_df[music_df['mood'] == 'Happy'],\n",
        "    'Sad': music_df[music_df['mood'] == 'Sad'],\n",
        "    'Surprise': music_df[music_df['mood'] == 'Surprise'],\n",
        "    'Energetic': music_df[music_df['mood'] == 'Energetic']\n",
        "}"
      ],
      "metadata": {
        "id": "cESYDRKYGOON"
      },
      "execution_count": 24,
      "outputs": []
    },
    {
      "cell_type": "code",
      "source": [
        "def recommend_music(mood):\n",
        "    recommendations = mood_to_music.get(mood, pd.DataFrame()).sample(n=1)\n",
        "    for _, row in recommendations.iterrows():\n",
        "        print(f\"Recommended Music: {row['name']}, Album: {row['album']}, Artist: {row['artist']}\")"
      ],
      "metadata": {
        "id": "90es3TSuGOKs"
      },
      "execution_count": 31,
      "outputs": []
    },
    {
      "cell_type": "code",
      "source": [
        "# Example Usage\n",
        "predicted_mood = 'Sad'  # This should come from the model prediction\n",
        "recommend_music(predicted_mood)"
      ],
      "metadata": {
        "colab": {
          "base_uri": "https://localhost:8080/"
        },
        "id": "J1iYXw3sGN71",
        "outputId": "92e95048-ae81-4801-819d-be9380b24b4e"
      },
      "execution_count": 34,
      "outputs": [
        {
          "output_type": "stream",
          "name": "stdout",
          "text": [
            "Recommended Music: Throw Me a Bone, Album: Throw Me a Bone, Artist: Goat Girl\n"
          ]
        }
      ]
    }
  ]
}